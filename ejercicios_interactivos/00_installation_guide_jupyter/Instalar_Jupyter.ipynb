{
 "cells": [
  {
   "cell_type": "markdown",
   "metadata": {},
   "source": [
    "# Guía de instalación de _Jupyter_\n",
    "\n",
    "## _Windows 10_\n",
    "\n",
    "### ¿Cómo instalar _Jupyter_ en _Windows 10_?\n",
    "1) Ingresá a la [página de descarga de Anaconda](https://www.anaconda.com/products/individual).  \n",
    "\n",
    "2) Hacé click en _\"Download\"_ y seleccioná la versión que corresponda a tu sistema operativo. Es muy importante que elijas correctamente 32-bit o 64-bit. Si no sabés cuál de las dos opciones es la correcta, podés averiguarlo así: seleccioná el botón **Inicio**, luego **Configuración**, luego **Sistema** y luego **Acerca de**. A la derecha, en **Especificaciones del dispositivo**, consultá **Tipo de 0\n",
    "sistema**.\n",
    "\n",
    "3) Una vez que sepas la versión que vas a usar, descargala (pesa cerca de 500 MB).  \n",
    "\n",
    "4) Una vez descargado el archivo ejecutable (el nombre será algo parecido a _Anaconda3_2020.11-Windows-x86-64_, dependiendo de qué versión descargues), **ejecutala y seguí las instrucciones de instalación**. \n",
    "\n",
    "### ¿Cómo ejecutar _Jupyter Lab_ en _Windows 10_?\n",
    "Ejecutá el programa _Anaconda Navigator_ (aparecerá entre los programas instalados) y, una vez abierto, buscá _Jupyter Lab_ y ejecutalo. Para abrir un _notebook_, vas a tener que navegar hacia la carpeta que lo contiene. El navegador está a la izquierda de la pantalla de _Jupyter Lab_. Si no podés verlo, probá pulsar _CTRL + B_ (este comando lo muestra y lo esconde).\n",
    "\n",
    "## _Linux_\n",
    "\n",
    "### ¿Cómo instalar _Jupyter_ en _Linux_?\n",
    "\n",
    "Seguí las instrucciones dadas [acá](https://docs.anaconda.com/anaconda/install/linux/). Cualquier duda que tengas, podés escribir un email a fabiangiana@gmail.com. \n",
    "\n",
    "### ¿Cómo ejecutar _Jupyter Lab_ en _Linux_?\n",
    "Simplemente abrí una consola en la carpeta donde quieras correr _Jupyter_, y ejecutá el comando `jupyter lab`. Para abrir un _notebook_, vas a tener que navegar hacia la carpeta que lo contiene. El navegador está a la izquierda de la pantalla de _Jupyter Lab_. Si no podés verlo, probá pulsar _CTRL + B_ (este comando lo muestra y lo esconde)."
   ]
  }
 ],
 "metadata": {
  "kernelspec": {
   "display_name": "Python 3",
   "language": "python",
   "name": "python3"
  },
  "language_info": {
   "codemirror_mode": {
    "name": "ipython",
    "version": 3
   },
   "file_extension": ".py",
   "mimetype": "text/x-python",
   "name": "python",
   "nbconvert_exporter": "python",
   "pygments_lexer": "ipython3",
   "version": "3.6.9"
  }
 },
 "nbformat": 4,
 "nbformat_minor": 4
}
