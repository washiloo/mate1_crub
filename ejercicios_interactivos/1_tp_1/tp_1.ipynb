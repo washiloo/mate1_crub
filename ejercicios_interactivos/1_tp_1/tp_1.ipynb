{
 "cells": [
  {
   "cell_type": "markdown",
   "metadata": {},
   "source": [
    "# Ejercicios interactivos del TP 1: Conjuntos.\n",
    "Este es el primer _notebook_ de ejercicios interactivos. Es corto y muy básico, pero servirá para darte una noción de cómo funciona este material complementario. Es necesario que tengas este archivo y el archivo _tp_1_mod.py_ en la misma carpeta (cosa que ocurre normalmente si bajaste la carpeta completa desde PEDCO).\n",
    "\n",
    "Antes de empezar, **dos recomendaciones**:\n",
    "\n",
    "1. Hacé una copia de este archivo, por si te interesa volver al archivo original después de haberlo modificado. Para eso, pulsá CTRL+SHIFT+S (se abrirá una ventanita para guardar, ponele un nombre diferente y listo), o sino copialo y pegalo desde la carpeta (cambiándole el nombre a la copia).\n",
    "2. Primero leé y ejecutá todo el _notebook_ como está, sin modificar nada, para adquirir las herramientas necesarias. Después, modificá lo que quieras, como quieras. Experimentá... ¡es para eso!"
   ]
  },
  {
   "cell_type": "markdown",
   "metadata": {},
   "source": [
    "No daremos aquí las soluciones de los problemas del trabajo práctico, pero sí mostraremos ejemplos relacionados con los temas abordados en el mismo. Todo este _notebook_ va a estar basado en el **ejercicio 4** del TP 1.\n",
    "\n",
    "En este ejercicio, se dan tres conjuntos $\\left(A \\text{, } B \\text{ y } C\\right)$ dentro de un conjunto referencial (en el TP se llama $R$, pero aquí lo llamaremos $U$ para no confundirlo con el conjunto de números reales $\\mathbb{R}$). La consigna pide realizar ciertas operaciones entre esos conjuntos."
   ]
  },
  {
   "cell_type": "markdown",
   "metadata": {},
   "source": [
    "Definamos primero los conjuntos:\n",
    "\n",
    "\\begin{align}\n",
    "A &= \\left\\{7,2,8,5\\right\\},\\\\\n",
    "B &= \\left\\{5,8,10\\right\\},\\\\\n",
    "C &= \\left\\{2,3,4,5,6,7\\right\\},\\\\\n",
    "U &= \\left\\{x \\in \\mathbb{N} \\text{ / } 2 \\leq x \\leq 10\\right\\},\\\\\n",
    "\\end{align}"
   ]
  },
  {
   "cell_type": "markdown",
   "metadata": {},
   "source": [
    "En la siguiente celda de código, importamos todos los métodos y funciones que vamos a usar en este _notebook_. Tanto \"método\" como \"función\", en este contexto de programación, se refieren a comandos que _hacen algo_ (transformar una variable en otra, mostrar algo en la pantalla, abrir un archivo, etc.). Recordá que para ejecutar una celda tenés que hacerle click y pulsar SHIFT + ENTER: "
   ]
  },
  {
   "cell_type": "code",
   "execution_count": null,
   "metadata": {},
   "outputs": [],
   "source": [
    "from tp_1_mod import *"
   ]
  },
  {
   "cell_type": "markdown",
   "metadata": {},
   "source": [
    "En este _notebook_, usaremos la función _conjunto()_ para definir un conjunto cualquiera. Si en alguna operación el resultado es el conjunto vacío, cuando lo imprimas aparecerá como _set()_. Recordemos que en un conjunto _el orden de los elementos no importa_. \n",
    "\n",
    "En la siguiente celda de código definimos los cuatro conjuntos que vamos a usar en este ejercicio:"
   ]
  },
  {
   "cell_type": "code",
   "execution_count": null,
   "metadata": {},
   "outputs": [],
   "source": [
    "A = conjunto(7,2,8,5) # Defino el conjunto A\n",
    "B = conjunto(5,8,10) # Defino el conjunto B\n",
    "C = conjunto(2,3,4,5,6,7) # Defino el conjunto C\n",
    "U = conjunto([x for x in range(2,11)]) # Defino el conjunto U (universal o referencial)"
   ]
  },
  {
   "cell_type": "markdown",
   "metadata": {},
   "source": [
    "Como verás, hay dos cosas \"raras\" en la celda de código anterior:\n",
    "\n",
    "1. En cada _línea_ del código, pusimos **comentarios** al final para aclarar qué hace esa línea. Los comentarios empiezan con el símbolo # (numeral), y podemos poner lo que queramos, ya que sólo están para indicar algo y _no son comandos que se ejecutan_. Recordemos que estamos programando en el lenguaje _python_.\n",
    "2. Definimos todos los conjuntos de forma muy simple, _excepto el conjunto universal $U$_. Para ese conjunto, usamos una expresión _por comprensión_ (¡repasar la diferencia entre _comprensión_ y _extensión_ como formas de expresar un conjunto!). La parte entre corchetes puede entenderse en lenguaje coloquial como _\"x para todo x entre 2 y 10\"_ (la función `range()` en el código incluye el valor menor pero _no incluye el valor mayor_, y por eso pusimos 11 y llega hasta 10 inclusive) y es muy similar a la notación de conjuntos que usamos para definir a $U$ anteriormente. La diferencia principal es que en el código no aclaramos que son números naturales, pero _python_ lo asume por defecto (en realidad, asume que son enteros, pero en el rango que le pedimos son enteros positivos, o sea, naturales)."
   ]
  },
  {
   "cell_type": "markdown",
   "metadata": {},
   "source": [
    "En la siguiente celda, verificamos que los conjuntos definidos son los que queremos (la explicación de este código está al final del _notebook_):"
   ]
  },
  {
   "cell_type": "code",
   "execution_count": null,
   "metadata": {},
   "outputs": [],
   "source": [
    "print('A = {}'.format(A)) # Muestro el conjunto A\n",
    "print('B = {}'.format(B)) # Muestro el conjunto B\n",
    "print('C = {}'.format(C)) # Muestro el conjunto C\n",
    "print('U = {}'.format(U)) # Muestro el conjunto U"
   ]
  },
  {
   "cell_type": "markdown",
   "metadata": {},
   "source": [
    "Ahora que definimos los conjuntos, podemos realizar algunas operaciones entre ellos."
   ]
  },
  {
   "cell_type": "markdown",
   "metadata": {},
   "source": [
    "### a) $A \\cup B$\n",
    "Vamos a usar la función _union()_ para unir conjuntos en este _notebook_:"
   ]
  },
  {
   "cell_type": "code",
   "execution_count": null,
   "metadata": {},
   "outputs": [],
   "source": [
    "result_a = union(A,B) # Determino la unión entre A y B y guardo el resultado en la variable \"result_a\"\n",
    "print(\"A∪B = {}\".format(result_a)) # Muestro el resultado de la operación"
   ]
  },
  {
   "cell_type": "markdown",
   "metadata": {},
   "source": [
    "### b) $A \\cap B$\n",
    "Vamos a usar la función _interseccion()_ para determinar la intersección de conjuntos en este _notebook_:"
   ]
  },
  {
   "cell_type": "code",
   "execution_count": null,
   "metadata": {},
   "outputs": [],
   "source": [
    "result_b = interseccion(A,B) # Determino la intersección entre A y B y guardo el resultado en la variable \"result_b\"\n",
    "print(\"A∩B = {}\".format(result_b)) # Muestro el resultado de la operación"
   ]
  },
  {
   "cell_type": "markdown",
   "metadata": {},
   "source": [
    "### c) $C - A$\n",
    "Vamos a usar la función _-_ para determinar la diferencia de conjuntos en este _notebook_:"
   ]
  },
  {
   "cell_type": "code",
   "execution_count": null,
   "metadata": {},
   "outputs": [],
   "source": [
    "result_c = C - A # Determino la diferencia entre C y A y guardo el resultado en la variable \"result_c\"\n",
    "print(\"C - A = {}\".format(result_c)) # Muestro el resultado de la operación"
   ]
  },
  {
   "cell_type": "markdown",
   "metadata": {},
   "source": [
    "### d) $\\overline{A}$\n",
    "Vamos a usar la función _complemento()_ para determinar el complemento de un conjunto en este _notebook_. ¡Ojo! Necesitamos indicar cuál es el conjunto referencial (en este caso, el conjunto $U$):"
   ]
  },
  {
   "cell_type": "code",
   "execution_count": null,
   "metadata": {},
   "outputs": [],
   "source": [
    "result_d = complemento(A,U) # Determino el complemento del conjunto A en el referencial U, y guardo el resultado en la variable \"result_d\"\n",
    "print(\"Complemento de A = {}\".format(result_d)) # Muestro el resultado de la operación"
   ]
  },
  {
   "cell_type": "markdown",
   "metadata": {},
   "source": [
    "¿Qué pasa si calculamos $U - A$?"
   ]
  },
  {
   "cell_type": "code",
   "execution_count": null,
   "metadata": {},
   "outputs": [],
   "source": [
    "result_d2 = U - A # Determino el complemento del conjunto A en el referencial U, y guardo el resultado en la variable \"result_d2\"\n",
    "print(\"U - A = {}\".format(result_d2)) # Muestro el resultado de la operación"
   ]
  },
  {
   "cell_type": "markdown",
   "metadata": {},
   "source": [
    "Como verás, los resultados de ambas operaciones son idénticos. Esto es lógico, ¡pues la definición de complemento es justamente esa! Dado el referencial $U$, se tiene que $\\overline{A} = U - A$."
   ]
  },
  {
   "cell_type": "markdown",
   "metadata": {},
   "source": [
    "### e) $A \\Delta C$\n",
    "Vamos a usar la función _diferencia_simetrica()_ para determinar la diferencia simétrica entre dos conjuntos en este _notebook_:"
   ]
  },
  {
   "cell_type": "code",
   "execution_count": null,
   "metadata": {},
   "outputs": [],
   "source": [
    "result_e = diferencia_simetrica(A,C) # Determino la diferencia simétrica entre A y C, y guardo el resultado en la variable \"result_e\"\n",
    "print(\"A ∆ C = {}\".format(result_e)) # Muestro el resultado de la operación"
   ]
  },
  {
   "cell_type": "markdown",
   "metadata": {},
   "source": [
    "### f) $\\overline{A \\cup B}$\n",
    "Para realizar una operación combinada (en este caso el _complemento_ de una _unión_), simplemente usamos la sintaxis combinada de ambas operaciones:"
   ]
  },
  {
   "cell_type": "code",
   "execution_count": null,
   "metadata": {},
   "outputs": [],
   "source": [
    "result_f = complemento(union(A,B),U) # Determino el complemento de la unión entre A y B, dado el referencial U, y guardo el resultado en la variable \"result_f\"\n",
    "print(\"Complemento de A∪B = {}\".format(result_f)) # Muestro el resultado de la operación"
   ]
  },
  {
   "cell_type": "markdown",
   "metadata": {},
   "source": [
    "También podríamos haber hecho la operación combinada anterior en _dos pasos_. Primero determinamos la unión de $A$ y $C$ y luego determinamos su complemento:"
   ]
  },
  {
   "cell_type": "code",
   "execution_count": null,
   "metadata": {},
   "outputs": [],
   "source": [
    "X = union(A,B) # Determino la unión entre A y B y guardo el resultado en la variable (conjunto) X\n",
    "result_f2 = complemento(X,U) # Determino el complemento de X, dado el referencial U, y guardo el resultado en la variable \"result_f2\"\n",
    "print(\"A∪B = {}\".format(X)) # Muestro el resultado de la operación de unión\n",
    "print(\"Complemento de A∪B = {}\".format(result_f2)) # Muestro el resultado de la operación de complemento"
   ]
  },
  {
   "cell_type": "markdown",
   "metadata": {},
   "source": [
    "### g) $A \\times B$\n",
    "Para determinar el producto cartesiano entre dos conjuntos, usaremos la función _producto_cartesiano()_ en este _notebook_:"
   ]
  },
  {
   "cell_type": "code",
   "execution_count": null,
   "metadata": {},
   "outputs": [],
   "source": [
    "result_g = producto_cartesiano(A,B) # Determino el producto cartesiano entre A y B, y guardo el resultado en la variable \"result_g\"\n",
    "print(\"A x B = {}\".format(result_g)) # Muestro el resultado de la operación"
   ]
  },
  {
   "cell_type": "markdown",
   "metadata": {},
   "source": [
    "Vemos que el resultado del producto cartesiano $A \\times B$ es _un conjunto de pares ordenados_ de la forma $(a,b)$, donde $a \\in A$ y $b \\in B$. A diferencia de los conjuntos, _en los pares ordenados el orden sí importa_. De esta forma, vemos que el producto cartesiano no es conmutativo, es decir, _no es lo mismo $A \\times B$ que $B \\times A$_. Lo podemos verificar en la siguiente celda:"
   ]
  },
  {
   "cell_type": "code",
   "execution_count": null,
   "metadata": {},
   "outputs": [],
   "source": [
    "result_g2 = producto_cartesiano(B,A) # Determino el producto cartesiano entre A y B, y guardo el resultado en la variable \"result_g2\"\n",
    "print(\"A x B = {}\".format(result_g)) # Muestro el resultado de la operación AxB\n",
    "print(\"B x A = {}\".format(result_g2)) # Muestro el resultado de la operación BxA"
   ]
  },
  {
   "cell_type": "markdown",
   "metadata": {},
   "source": [
    "## Notas finales\n",
    "A lo largo de este _notebook_ usamos algunas sintaxis \"raras\" en las celdas de código y no las explicamos. Acá van las explicaciones:"
   ]
  },
  {
   "cell_type": "markdown",
   "metadata": {},
   "source": [
    "- La función `print()` sirve para mostrar (\"imprimir\") algo en la celda de salida (debajo de la celda de código). La usamos generalmente para mostrar resultados de cuentas u operaciones. El _argumento_ de esta función (lo que va dentro del paréntesis) puede ser una variable de cualquier tipo (en este contexto, \"variable\" se usa de forma general: puede ser un número, un conjunto, una palabra, etc.). En particular, una variable que guarda **texto** se conoce en programación como _string_. En _python_, para definir un _string_ usamos comillas dobles (\"\") o simples (''). Por ejemplo, la siguiente celda define el conjunto $A$ y luego imprime primero el conjunto y luego la letra $A$:"
   ]
  },
  {
   "cell_type": "code",
   "execution_count": null,
   "metadata": {},
   "outputs": [],
   "source": [
    "D = conjunto(1,2,3) # Defino el conjunto D\n",
    "print(A) # Imprimo el conjunto D\n",
    "print(\"D\") # Imprimo la letra D (comillas dobles)\n",
    "print('Matemática') # Imprimo la palabra Matemática (comillas simples, funciona igual que la línea anterior)"
   ]
  },
  {
   "cell_type": "markdown",
   "metadata": {},
   "source": [
    "- Los _strings_ se pueden formatear de muchas maneras. En este _notebook_, formateamos todo el tiempo los _strings_ para mostrar texto combinado con los resultados de las operaciones (guardados en una variable que _no es texto_). Esto lo logramos usando el método `format()`. Para usarlo, escribimos primero el texto entre comillas y colocamos llaves en la parte del texto donde queremos poner el valor de la variable. Agregamos entonces `.format()` después de las comillas de cierre del _string_, y dentro del paréntesis ponemos la variable que queremos imprimir. Veamos un ejemplo, que resulta más fácil: en la siguiente celda, primero definimos un conjunto $A$, luego creamos un _string_ con texto mezclado con el conjunto $A$, y finalmente imprimimos todo: "
   ]
  },
  {
   "cell_type": "code",
   "execution_count": null,
   "metadata": {},
   "outputs": [],
   "source": [
    "E = conjunto('oso',2,1.5) # Defino el conjunto E\n",
    "s = \"El conjunto es: {}.\".format(E) # Primero escribo el string entre comillas, luego pongo un punto y la palabra \"format\", y entre paréntesis la variable que quiero que aparezca donde estaban las comillas\n",
    "\n",
    "print(s) # Imprimo el string s"
   ]
  },
  {
   "cell_type": "markdown",
   "metadata": {},
   "source": [
    "El orden en que se imprimen los elementos del conjunto es asignado automáticamente, y probablemente sea diferente al que usaste cuando definiste el conjunto. De nuevo, esto es irrelevante, pues _los elementos de un conjunto no están ordenados_. \n",
    "\n",
    "Podemos poner todas las variables que queramos dentro del _string_, agregando todas las llaves que necesitemos y luego separando las variables con comas dentro del argumento del método `format()`:"
   ]
  },
  {
   "cell_type": "code",
   "execution_count": null,
   "metadata": {},
   "outputs": [],
   "source": [
    "F = conjunto(1,2,3) # Defino el conjunto F\n",
    "G = conjunto('perro','mono','loro') # Defino el conjunto G\n",
    "H = union(F,G) # Defino el conjunto H, que es la unión entre F y G\n",
    "\n",
    "s = \"El conjunto {} tiene números, el conjunto {} tiene nombres de animales, y su unión es {}.\".format(F,G,H) # Formateo el string\n",
    "\n",
    "print(s) # Imprimo el string s"
   ]
  },
  {
   "cell_type": "markdown",
   "metadata": {},
   "source": [
    "# Sección para experimentar"
   ]
  },
  {
   "cell_type": "code",
   "execution_count": null,
   "metadata": {},
   "outputs": [],
   "source": []
  }
 ],
 "metadata": {
  "kernelspec": {
   "display_name": "Python 3",
   "language": "python",
   "name": "python3"
  },
  "language_info": {
   "codemirror_mode": {
    "name": "ipython",
    "version": 3
   },
   "file_extension": ".py",
   "mimetype": "text/x-python",
   "name": "python",
   "nbconvert_exporter": "python",
   "pygments_lexer": "ipython3",
   "version": "3.6.9"
  }
 },
 "nbformat": 4,
 "nbformat_minor": 4
}
