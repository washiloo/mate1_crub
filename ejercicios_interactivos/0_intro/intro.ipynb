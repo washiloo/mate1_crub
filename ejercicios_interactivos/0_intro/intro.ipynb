{
 "cells": [
  {
   "cell_type": "markdown",
   "metadata": {},
   "source": [
    "# INTRODUCCIÓN: Ejercicios Interactivos en Matemática I\n",
    "Si estás viendo esto desde _Jupyter_, ¡felicitaciones! Lograste instalar correctamente todo lo necesario para poder usar estos _notebooks_ con ejercicios interactivos."
   ]
  },
  {
   "cell_type": "markdown",
   "metadata": {},
   "source": [
    "## ¿Qué es un _notebook_ de _Jupyter_?\n",
    "Es básicamente un entorno que combina celdas de texto con celdas de código. La idea de las _celdas de texto_ (como la que estás leyendo en este momento) es que presenten enunciados, explicaciones, comentarios, etc. mientras que las _celdas de código_ se utilizan para hacer cuentas, crear gráficos, y probar de forma interactiva diferentes aplicaciones prácticas de los conceptos que trabajamos en clase.\n",
    "\n",
    "Las celdas de código son _programables_, es decir que se utiliza un _lenguaje de programación_ para implementarlas. Pero, ¡no te asustes! No es para nada necesario que sepas programar. Quizá sea la primera vez que entres en contacto con un lenguaje de programación, y eso también es algo positivo, pues es altamente probable que en tu vida académica y profesional debas programar al menos una vez (¡o muchísimas!). En Matemática II vas a aprender a trabajar con el lenguaje _R_, pero en estos apuntes vamos a usar el lenguaje _Python_. Los dos tienen muchísimas aplicaciones en la ciencia, y saber un poco de alguno te va a ayudar a comprender más fácilmente el otro.\n",
    "\n",
    "La idea principal detrás de estos _notebooks_ es que modifiques lo que quieras y experimentes de manera interactiva. Pero: _¡ojo!_ Son un **complemento** del material obligatorio de la cátedra (las clases teóricas y prácticas, las clases de consulta, los TPS, los libros, etc.). Esto significa que _no es obligatorio que los uses_. Sin embargo, creemos que vas a poder aprender cosas interesantes con ellos. "
   ]
  },
  {
   "cell_type": "markdown",
   "metadata": {},
   "source": [
    "## ¿Cómo se usa un _notebook_?\n",
    "En primer lugar, necesitás los archivos necesarios. El _notebook_ está contenido en un archivo con extensión _.ipynb_. Por ejemplo, este archivo se llamaba orginalmente _intro.ipynb_. Cada _notebook_ va a decir, en su descripción, si necesitás algún otro archivo para usarlo. En este caso, es necesario también que tengas el archivo _intro.py_ en la misma carpeta que el _notebook_. Ese archivo se usa para poder ejecutar las celdas de código con los ejemplos que vas a ver más abajo, "
   ]
  },
  {
   "cell_type": "markdown",
   "metadata": {},
   "source": [
    "Como dijimos antes, un _notebook_ está dividido en **celdas** (de texto y de código). Para _editar una celda de texto_, simplemente hacé doble click sobre ella (¡podés probar haciendo doble click acá mismo!). Cuando estás editando la celda, vas a ver que el texto se ve diferente (menos bonito). Una vez que hayas terminado de editarla, **pulsá SHIFT + ENTER** para ejecutarla, y vas a ver que el texto cambia y se formatea como le pedimos. También podés ejecutar una celda pulsando el botón \"Run\", que tiene forma de triángulo (como el de \"play\" en un reproductor de música o video) y está arriba del _notebook_."
   ]
  },
  {
   "cell_type": "markdown",
   "metadata": {},
   "source": [
    "Podés distinguir las _celdas de código_ porque tienen un par de corchetes a la izquierda. Por ejemplo, la siguiente es una celda de código. Estas celdas se pueden editar siempre, sin necesidad de hacer doble click, y se ejecutan igual que las celdas de texto (SHIFT + ENTER o botón \"run\"). **Veamos algunos ejemplos**."
   ]
  },
  {
   "cell_type": "markdown",
   "metadata": {},
   "source": [
    "Probá ejecutar la celda siguiente:"
   ]
  },
  {
   "cell_type": "code",
   "execution_count": null,
   "metadata": {},
   "outputs": [],
   "source": [
    "from intro import *\n",
    "print(\"El 14 de marzo es el día de PI, pues es el día 3.14 (al menos así se escriben las fechas en EEUU y Filipinas).\")\n",
    "print(\"Los primeros 15 dígitos de ese número son: {:.14f}\".format(pi))"
   ]
  },
  {
   "cell_type": "markdown",
   "metadata": {},
   "source": [
    "Como ves, al ejecutar una celda de código _pasan cosas_. En general, la idea es hacer alguna cuenta y mostrar los resultados, ya sea de forma \"escrita\" o en forma de un gráfico. Esos resultados se muestran en las _celdas de salida_, que siempre van a estar inmediatamente debajo de la celda de código. La celda anterior muestra una salida con forma de texto. La siguiente muestra un gráfico:"
   ]
  },
  {
   "cell_type": "code",
   "execution_count": null,
   "metadata": {},
   "outputs": [],
   "source": [
    "x = valores(-10,10)            # Algunos valores de x\n",
    "y = x**3 + 2*(x**2) - 3*x + 12 # La imagen de un polinomio de 3er grado para los valores de x anteriores\n",
    "\n",
    "ejemplo_graficar(x,y) # Gráfico"
   ]
  },
  {
   "cell_type": "markdown",
   "metadata": {},
   "source": [
    "La siguiente celda resuelve la ecuación lineal:\n",
    "\n",
    "\\begin{align}\n",
    "2x - y - 1 = 0\\\\\n",
    "x + y - 5 = 0\n",
    "\\end{align}"
   ]
  },
  {
   "cell_type": "code",
   "execution_count": null,
   "metadata": {},
   "outputs": [],
   "source": [
    "ejemplo_ecuaciones()"
   ]
  },
  {
   "cell_type": "markdown",
   "metadata": {},
   "source": [
    "Probá resolver el sistema de ecuaciones anterior manualmente, y compará los resultados ;-)"
   ]
  },
  {
   "cell_type": "markdown",
   "metadata": {},
   "source": [
    "## ¿De dónde saco los _notebooks_?\n",
    "Todos los _notebooks_ (y sus archivos complementarios) van a ser subidos a PEDCO regularmente. Estarán en una carpeta llamada [_Ejercicios interactivos_](https://pedco.uncoma.edu.ar/mod/folder/view.php?id=444298) dentro del módulo _Otros materiales complementarios_ Vas a enterarte cuando subamos uno nuevo en la _Pizarra de Novedades_.\n",
    "\n",
    "Acá finaliza esta introducción. Cualquier duda, contactate con los docentes de la cátedra :-) . El siguiente _notebook_ se va a llamar _tp_1.ipynb_, y lo vamos a subir próximamente."
   ]
  }
 ],
 "metadata": {
  "kernelspec": {
   "display_name": "Python 3",
   "language": "python",
   "name": "python3"
  },
  "language_info": {
   "codemirror_mode": {
    "name": "ipython",
    "version": 3
   },
   "file_extension": ".py",
   "mimetype": "text/x-python",
   "name": "python",
   "nbconvert_exporter": "python",
   "pygments_lexer": "ipython3",
   "version": "3.6.9"
  }
 },
 "nbformat": 4,
 "nbformat_minor": 4
}
