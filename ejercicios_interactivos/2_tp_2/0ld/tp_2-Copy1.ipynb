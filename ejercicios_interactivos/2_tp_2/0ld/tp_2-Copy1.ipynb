{
 "cells": [
  {
   "cell_type": "markdown",
   "metadata": {},
   "source": [
    "# Ejercicios interactivos del TP 2: Relaciones y funciones.\n",
    "Es necesario que tengas este archivo y el archivo _tp_2_mod.py_ en la misma carpeta (cosa que ocurre normalmente si bajaste la carpeta completa desde PEDCO)."
   ]
  },
  {
   "cell_type": "markdown",
   "metadata": {},
   "source": [
    "---\n",
    "**Además, si todavía no lo hiciste, es necesario en este punto que instales el módulo _sympy_**. Este módulo te servirá para éste y todos los _notebooks_ que siguen.\n",
    "\n",
    "#### En _Windows 10_\n",
    "Pulsá la tecla de Windows o hacé click en el ícono de Windows (en la parte inferior izquierda de la pantalla). Ahí, empezá a escribir _Anaconda_ y deberían aparecer resultados de la búsqueda. Entre ellos, uno que se llama **_Anaconda Prompt_** (tiene un ícono de ventanita negra). Ejecutá ese programa (haciendo click) y se abrirá una ventana negra (se llama _terminal_). Verás que podés escribir en esa ventana. Tenés que escribir el comando `conda install sympy` y listo.\n",
    "\n",
    "#### En _Linux_\n",
    "En una terminal, ejecutá:\n",
    "\n",
    "```\n",
    "sudo apt-get install python3-pip\n",
    "sudo pip3 install sympy\n",
    "```\n",
    "---"
   ]
  },
  {
   "cell_type": "markdown",
   "metadata": {},
   "source": [
    "Antes de empezar, **dos recomendaciones**:\n",
    "\n",
    "1. Hacé una copia de este archivo, por si te interesa volver al archivo original después de haberlo modificado. Para eso, pulsá CTRL+SHIFT+S (se abrirá una ventanita para guardar, ponele un nombre diferente y listo), o sino copialo y pegalo desde la carpeta (cambiándole el nombre a la copia).\n",
    "2. Primero leé y ejecutá todo el _notebook_ como está, sin modificar nada, para adquirir las herramientas necesarias. Después, modificá lo que quieras, como quieras. Experimentá... ¡es para eso!"
   ]
  },
  {
   "cell_type": "markdown",
   "metadata": {},
   "source": [
    "## Ej. 2"
   ]
  },
  {
   "cell_type": "code",
   "execution_count": 1,
   "metadata": {},
   "outputs": [],
   "source": [
    "from tp_2_mod import *"
   ]
  },
  {
   "cell_type": "code",
   "execution_count": 2,
   "metadata": {},
   "outputs": [
    {
     "data": {
      "image/png": "[encoded data removed]",
      "text/plain": [
       "<Figure size 576x576 with 1 Axes>"
      ]
     },
     "metadata": {
      "needs_background": "light"
     },
     "output_type": "display_data"
    }
   ],
   "source": [
    "x_lim = [-1,10] # Límites de la variable x para graficar [mínimo, máximo]\n",
    "y_lim = [-4,8] # Límites de la variable y para graficar [mínimo, máximo]\n",
    "x,y = valores(x_lim,y_lim) # Creo una grilla de puntos\n",
    "\n",
    "region = (x <= 5) & (x >= 2) & (y < 4) # Defino la región a graficar usando expresiones lógicas\n",
    "          \n",
    "ax = graficar_region(x,y,region) # Grafico la región (sin la frontera)"
   ]
  },
  {
   "cell_type": "code",
   "execution_count": 3,
   "metadata": {},
   "outputs": [
    {
     "data": {
      "image/png": "[encoded data removed]",
      "text/plain": [
       "<Figure size 576x576 with 1 Axes>"
      ]
     },
     "metadata": {
      "needs_background": "light"
     },
     "output_type": "display_data"
    }
   ],
   "source": [
    "x_lim = [-1,10] # Límites de la variable x para graficar [mínimo, máximo]\n",
    "y_lim = [-4,8] # Límites de la variable y para graficar [mínimo, máximo]\n",
    "x,y = valores(x_lim,y_lim) # Creo una grilla de puntos\n",
    "\n",
    "region = (x <= 5) & (x >= 2) & (y < 4) # Defino la región a graficar usando expresiones lógicas\n",
    "\n",
    "fr1 = frontera(x = [2,5],y = '4',tipo = '--') # Defino una parte de la frontera del conjunto\n",
    "fr2 = frontera(y = [-10,4],x = '2',tipo = '-') # Defino una parte de la frontera del conjunto\n",
    "fr3 = frontera(y = [-10,4],x = '5',tipo = '-') # Defino una parte de la frontera del conjunto\n",
    "\n",
    "ax = graficar_region(x,y,region,fronteras = (fr1,fr2,fr3)) # Grafico la región (con la frontera)"
   ]
  },
  {
   "cell_type": "markdown",
   "metadata": {},
   "source": [
    "## Notas finales\n",
    "A lo largo de este _notebook_ usamos algunas sintaxis \"raras\" en las celdas de código y no las explicamos. Acá van las explicaciones:"
   ]
  },
  {
   "cell_type": "markdown",
   "metadata": {},
   "source": [
    "- La función `print()` sirve para mostrar (\"imprimir\") algo en la celda de salida (debajo de la celda de código). La usamos generalmente para mostrar resultados de cuentas u operaciones. El _argumento_ de esta función (lo que va dentro del paréntesis) puede ser una variable de cualquier tipo (en este contexto, \"variable\" se usa de forma general: puede ser un número, un conjunto, una palabra, etc.). En particular, una variable que guarda **texto** se conoce en programación como _string_. En _python_, para definir un _string_ usamos comillas dobles (\"\") o simples (''). Por ejemplo, la siguiente celda define el conjunto $A$ y luego imprime primero el conjunto y luego la letra $A$:"
   ]
  },
  {
   "cell_type": "code",
   "execution_count": null,
   "metadata": {},
   "outputs": [],
   "source": [
    "D = conjunto(1,2,3) # Defino el conjunto D\n",
    "print(A) # Imprimo el conjunto D\n",
    "print(\"D\") # Imprimo la letra D (comillas dobles)\n",
    "print('Matemática') # Imprimo la palabra Matemática (comillas simples, funciona igual que la línea anterior)"
   ]
  },
  {
   "cell_type": "markdown",
   "metadata": {},
   "source": [
    "- Los _strings_ se pueden formatear de muchas maneras. En este _notebook_, formateamos todo el tiempo los _strings_ para mostrar texto combinado con los resultados de las operaciones (guardados en una variable que _no es texto_). Esto lo logramos usando el método `format()`. Para usarlo, escribimos primero el texto entre comillas y colocamos llaves en la parte del texto donde queremos poner el valor de la variable. Agregamos entonces `.format()` después de las comillas de cierre del _string_, y dentro del paréntesis ponemos la variable que queremos imprimir. Veamos un ejemplo, que resulta más fácil: en la siguiente celda, primero definimos un conjunto $A$, luego creamos un _string_ con texto mezclado con el conjunto $A$, y finalmente imprimimos todo: "
   ]
  },
  {
   "cell_type": "code",
   "execution_count": null,
   "metadata": {},
   "outputs": [],
   "source": [
    "E = conjunto('oso',2,1.5) # Defino el conjunto E\n",
    "s = \"El conjunto es: {}.\".format(E) # Primero escribo el string entre comillas, luego pongo un punto y la palabra \"format\", y entre paréntesis la variable que quiero que aparezca donde estaban las comillas\n",
    "\n",
    "print(s) # Imprimo el string s"
   ]
  },
  {
   "cell_type": "markdown",
   "metadata": {},
   "source": [
    "El orden en que se imprimen los elementos del conjunto es asignado automáticamente, y probablemente sea diferente al que usaste cuando definiste el conjunto. De nuevo, esto es irrelevante, pues _los elementos de un conjunto no están ordenados_. \n",
    "\n",
    "Podemos poner todas las variables que queramos dentro del _string_, agregando todas las llaves que necesitemos y luego separando las variables con comas dentro del argumento del método `format()`:"
   ]
  },
  {
   "cell_type": "code",
   "execution_count": null,
   "metadata": {},
   "outputs": [],
   "source": [
    "F = conjunto(1,2,3) # Defino el conjunto F\n",
    "G = conjunto('perro','mono','loro') # Defino el conjunto G\n",
    "H = union(F,G) # Defino el conjunto H, que es la unión entre F y G\n",
    "\n",
    "s = \"El conjunto {} tiene números, el conjunto {} tiene nombres de animales, y su unión es {}.\".format(F,G,H) # Formateo el string\n",
    "\n",
    "print(s) # Imprimo el string s"
   ]
  },
  {
   "cell_type": "markdown",
   "metadata": {},
   "source": [
    "# Sección para experimentar"
   ]
  },
  {
   "cell_type": "code",
   "execution_count": null,
   "metadata": {},
   "outputs": [],
   "source": []
  }
 ],
 "metadata": {
  "kernelspec": {
   "display_name": "Python 3",
   "language": "python",
   "name": "python3"
  },
  "language_info": {
   "codemirror_mode": {
    "name": "ipython",
    "version": 3
   },
   "file_extension": ".py",
   "mimetype": "text/x-python",
   "name": "python",
   "nbconvert_exporter": "python",
   "pygments_lexer": "ipython3",
   "version": "3.6.9"
  }
 },
 "nbformat": 4,
 "nbformat_minor": 4
}
